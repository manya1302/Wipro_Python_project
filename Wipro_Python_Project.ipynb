{
 "cells": [
  {
   "cell_type": "markdown",
   "id": "6ed16131",
   "metadata": {},
   "source": [
    "# Exercises\n",
    "\n",
    "\n",
    "\n"
   ]
  },
  {
   "cell_type": "markdown",
   "id": "1601e9c7",
   "metadata": {},
   "source": [
    "1. Write a program to check if a given number is Positive, Negative or Zero."
   ]
  },
  {
   "cell_type": "code",
   "execution_count": 4,
   "id": "0796245e",
   "metadata": {},
   "outputs": [
    {
     "name": "stdout",
     "output_type": "stream",
     "text": [
      "The number is Positive.\n"
     ]
    }
   ],
   "source": [
    "number = int(input(\"Enter a number: \"))\n",
    "\n",
    "# Check if the number is positive, negative, or zero\n",
    "if number > 0:\n",
    "    print(\"The number is Positive.\")\n",
    "elif number < 0:\n",
    "    print(\"The number is Negative.\")\n",
    "else:\n",
    "    print(\"The number is Zero.\")"
   ]
  },
  {
   "cell_type": "markdown",
   "id": "c364e195",
   "metadata": {
    "vscode": {
     "languageId": "plaintext"
    }
   },
   "source": [
    "2. Write a program to check if a given number is odd or even."
   ]
  },
  {
   "cell_type": "code",
   "execution_count": 5,
   "id": "a3f0e0f6",
   "metadata": {},
   "outputs": [
    {
     "name": "stdout",
     "output_type": "stream",
     "text": [
      "The number is Even.\n"
     ]
    }
   ],
   "source": [
    "number = int(input(\"Enter a number: \"))\n",
    "\n",
    "# Check if the number is even or odd using modulus operator\n",
    "if number % 2 == 0:\n",
    "    print(\"The number is Even.\")\n",
    "else:\n",
    "    print(\"The number is Odd.\")\n"
   ]
  },
  {
   "cell_type": "markdown",
   "id": "09ef4d54",
   "metadata": {
    "vscode": {
     "languageId": "plaintext"
    }
   },
   "source": [
    "3. Given two non-negative values, print true if they have the same last digit, such as with 27 and 57"
   ]
  },
  {
   "cell_type": "code",
   "execution_count": 6,
   "id": "760ba044",
   "metadata": {},
   "outputs": [
    {
     "name": "stdout",
     "output_type": "stream",
     "text": [
      "True\n"
     ]
    }
   ],
   "source": [
    "num1 = int(input(\"Enter the first non-negative number: \"))\n",
    "num2 = int(input(\"Enter the second non-negative number: \"))\n",
    "\n",
    "# Check if they have the same last digit\n",
    "if num1 % 10 == num2 % 10:\n",
    "    print(\"True\")\n",
    "else:\n",
    "    print(\"False\")"
   ]
  },
  {
   "cell_type": "markdown",
   "id": "cba7e88a",
   "metadata": {},
   "source": [
    "4. Write a program to print numbers from 1 to 10 in a single row with one tab space."
   ]
  },
  {
   "cell_type": "code",
   "execution_count": 16,
   "id": "757c87d4",
   "metadata": {},
   "outputs": [
    {
     "name": "stdout",
     "output_type": "stream",
     "text": [
      "1\t2\t3\t4\t5\t6\t7\t8\t9\t10\t"
     ]
    }
   ],
   "source": [
    "for i in range(1, 11):\n",
    "    print(i, end='\\t')"
   ]
  },
  {
   "cell_type": "markdown",
   "id": "8deb8f63",
   "metadata": {},
   "source": [
    "5. Write a program to print even numbers between 23 and 57. Each number should be printed in a seperate row.\n"
   ]
  },
  {
   "cell_type": "code",
   "execution_count": 17,
   "id": "86009f0a",
   "metadata": {},
   "outputs": [
    {
     "name": "stdout",
     "output_type": "stream",
     "text": [
      "24\n",
      "26\n",
      "28\n",
      "30\n",
      "32\n",
      "34\n",
      "36\n",
      "38\n",
      "40\n",
      "42\n",
      "44\n",
      "46\n",
      "48\n",
      "50\n",
      "52\n",
      "54\n",
      "56\n"
     ]
    }
   ],
   "source": [
    "for i in range(23, 58):\n",
    "    if i % 2 == 0:\n",
    "        print(i)"
   ]
  },
  {
   "cell_type": "markdown",
   "id": "aa30f81a",
   "metadata": {},
   "source": [
    "6. Write a program to check if a given number is prime or not."
   ]
  },
  {
   "cell_type": "code",
   "execution_count": 9,
   "id": "e4c76837",
   "metadata": {},
   "outputs": [
    {
     "name": "stdout",
     "output_type": "stream",
     "text": [
      "The number is prime.\n"
     ]
    }
   ],
   "source": [
    "num = int(input(\"Enter a number: \"))\n",
    "\n",
    "if num <= 1:\n",
    "    print(\"The number is not prime.\")\n",
    "else:\n",
    "    for i in range(2, num):\n",
    "        if num % i == 0:\n",
    "            print(\"The number is not prime.\")\n",
    "            break\n",
    "    else:\n",
    "        print(\"The number is prime.\")\n"
   ]
  },
  {
   "cell_type": "markdown",
   "id": "867b4af5",
   "metadata": {},
   "source": [
    "7. Write a program to print prime numbers between 10 and 99."
   ]
  },
  {
   "cell_type": "code",
   "execution_count": 18,
   "id": "e3e724e9",
   "metadata": {},
   "outputs": [
    {
     "name": "stdout",
     "output_type": "stream",
     "text": [
      "11\n",
      "13\n",
      "17\n",
      "19\n",
      "23\n",
      "29\n",
      "31\n",
      "37\n",
      "41\n",
      "43\n",
      "47\n",
      "53\n",
      "59\n",
      "61\n",
      "67\n",
      "71\n",
      "73\n",
      "79\n",
      "83\n",
      "89\n",
      "97\n"
     ]
    }
   ],
   "source": [
    "for num in range(10, 100):\n",
    "    # Check if the number is prime\n",
    "    for i in range(2, num):\n",
    "        if num % i == 0:\n",
    "            break\n",
    "    else:\n",
    "        print(num)"
   ]
  },
  {
   "cell_type": "markdown",
   "id": "f343ba96",
   "metadata": {},
   "source": [
    "8. Write a program to print the sum of all the digits of a given number."
   ]
  },
  {
   "cell_type": "code",
   "execution_count": 11,
   "id": "21f39a40",
   "metadata": {},
   "outputs": [
    {
     "name": "stdout",
     "output_type": "stream",
     "text": [
      "Sum of the digits is: 18\n"
     ]
    }
   ],
   "source": [
    "num = int(input(\"Enter a number: \"))\n",
    "\n",
    "digit_sum = 0\n",
    "while num > 0:\n",
    "    digit_sum += num % 10\n",
    "    num //= 10\n",
    "\n",
    "# Print the result\n",
    "print(\"Sum of the digits is:\", digit_sum)\n"
   ]
  },
  {
   "cell_type": "markdown",
   "id": "4dd16846",
   "metadata": {},
   "source": [
    "9. Write a program to reverse a given number and print."
   ]
  },
  {
   "cell_type": "code",
   "execution_count": 12,
   "id": "74f33163",
   "metadata": {},
   "outputs": [
    {
     "name": "stdout",
     "output_type": "stream",
     "text": [
      "Reversed number is: 567\n"
     ]
    }
   ],
   "source": [
    "num = int(input(\"Enter a number: \"))\n",
    "\n",
    "# Handle negative numbers\n",
    "negative = False\n",
    "if num < 0:\n",
    "    negative = True\n",
    "    num = -num\n",
    "\n",
    "# Reverse the number\n",
    "reversed_num = 0\n",
    "while num > 0:\n",
    "    digit = num % 10\n",
    "    reversed_num = reversed_num * 10 + digit\n",
    "    num //= 10\n",
    "\n",
    "# Restore negative sign if needed\n",
    "if negative:\n",
    "    reversed_num = -reversed_num\n",
    "\n",
    "# Print the reversed number\n",
    "print(\"Reversed number is:\", reversed_num)\n"
   ]
  },
  {
   "cell_type": "markdown",
   "id": "698fac99",
   "metadata": {},
   "source": [
    "10. Write a program to find if the given number is palindrom or not."
   ]
  },
  {
   "cell_type": "code",
   "execution_count": 13,
   "id": "1c2e58f1",
   "metadata": {},
   "outputs": [
    {
     "name": "stdout",
     "output_type": "stream",
     "text": [
      "The number is a palindrome.\n"
     ]
    }
   ],
   "source": [
    "num = int(input(\"Enter a number: \"))\n",
    "original_num = num\n",
    "\n",
    "reversed_num = 0\n",
    "while num > 0:\n",
    "    digit = num % 10\n",
    "    reversed_num = reversed_num * 10 + digit\n",
    "    num //= 10\n",
    "\n",
    "# Check if original and reversed are the same\n",
    "if original_num == reversed_num:\n",
    "    print(\"The number is a palindrome.\")\n",
    "else:\n",
    "    print(\"The number is not a palindrome.\")\n"
   ]
  },
  {
   "cell_type": "markdown",
   "id": "99ec3955",
   "metadata": {},
   "source": [
    "# MINI PROJECT"
   ]
  },
  {
   "cell_type": "markdown",
   "id": "964ddf35",
   "metadata": {},
   "source": [
    "1. Create a python program that asks the user how far they want to travel. if they want to travel less than three miles tell them to ride Bicycle. if they want to travel more than three miles, but less than three hundred miles, tell them to ride Motor-cycle. if they want to travel three hundred miles or more tell them to driver Super-Car.\n",
    "Sample Output:\n",
    "How far would you like to travel in miles? 2500\n",
    "I suggest Super-Car to your destination\n"
   ]
  },
  {
   "cell_type": "code",
   "execution_count": 14,
   "id": "170bada7",
   "metadata": {},
   "outputs": [
    {
     "name": "stdout",
     "output_type": "stream",
     "text": [
      "I suggest Motor-cycle to your destination\n"
     ]
    }
   ],
   "source": [
    "distance = float(input(\"How far would you like to travel in miles? \"))\n",
    "\n",
    "# Decision logic based on the distance\n",
    "if distance < 3:\n",
    "    print(\"I suggest Bicycle to your destination\")\n",
    "elif distance < 300:\n",
    "    print(\"I suggest Motor-cycle to your destination\")\n",
    "else:\n",
    "    print(\"I suggest Super-Car to your destination\")"
   ]
  },
  {
   "cell_type": "markdown",
   "id": "b35b882a",
   "metadata": {},
   "source": [
    "2. Let's assume you are planning to use your python skills to build an App for Mobile.\n",
    "You decide to host your application on servers running in the cloud. you pick a hosting provider that charges $0.51 per hour. you will launch your services using one server and want to know how much it will cost to operate per day, per week, per month.\n",
    "Write a python program that displays the answers to the following questions:\n",
    "How much does it cost to operate one server per day?\n",
    "How much does it cost to operate one server per week?\n",
    "How much does it cost to operate one server per month?\n",
    "How much days can I operate one server with $918?\n"
   ]
  },
  {
   "cell_type": "code",
   "execution_count": 15,
   "id": "2d97bc31",
   "metadata": {},
   "outputs": [
    {
     "name": "stdout",
     "output_type": "stream",
     "text": [
      "Cost to operate one server:\n",
      "- Per day: $12.24\n",
      "- Per week: $85.68\n",
      "- Per month: $367.20\n",
      "\n",
      "With $918, you can operate one server for approximately 75.00 days.\n"
     ]
    }
   ],
   "source": [
    "# Hosting cost per hour\n",
    "hourly_rate = 0.51\n",
    "\n",
    "# Calculations\n",
    "cost_per_day = hourly_rate * 24\n",
    "cost_per_week = cost_per_day * 7\n",
    "cost_per_month = cost_per_day * 30  # Approximate month = 30 days\n",
    "\n",
    "# Given budget\n",
    "budget = 918\n",
    "days_operated = budget / cost_per_day\n",
    "\n",
    "# Display results\n",
    "print(\"Cost to operate one server:\")\n",
    "print(f\"- Per day: ${cost_per_day:.2f}\")\n",
    "print(f\"- Per week: ${cost_per_week:.2f}\")\n",
    "print(f\"- Per month: ${cost_per_month:.2f}\")\n",
    "print(f\"\\nWith ${budget}, you can operate one server for approximately {days_operated:.2f} days.\")\n"
   ]
  }
 ],
 "metadata": {
  "kernelspec": {
   "display_name": "base",
   "language": "python",
   "name": "python3"
  },
  "language_info": {
   "codemirror_mode": {
    "name": "ipython",
    "version": 3
   },
   "file_extension": ".py",
   "mimetype": "text/x-python",
   "name": "python",
   "nbconvert_exporter": "python",
   "pygments_lexer": "ipython3",
   "version": "3.11.4"
  }
 },
 "nbformat": 4,
 "nbformat_minor": 5
}
